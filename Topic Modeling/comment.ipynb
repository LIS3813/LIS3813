{
 "cells": [
  {
   "cell_type": "markdown",
   "id": "a3e5b4fc",
   "metadata": {},
   "source": [
    "## Import libraries"
   ]
  },
  {
   "cell_type": "code",
   "execution_count": 1,
   "id": "b8b33e4c",
   "metadata": {},
   "outputs": [],
   "source": [
    "import numpy as np\n",
    "import pandas as pd\n",
    "import seaborn as sns\n",
    "from sklearn.preprocessing import StandardScaler, MinMaxScaler\n",
    "from tqdm.notebook import tqdm\n",
    "import matplotlib as mpl\n",
    "import matplotlib.pyplot as plt\n",
    "np.random.seed(42)\n",
    "%matplotlib inline\n",
    "\n",
    "#KoNLPy 공식 문서 : https://konlpy.org/ko/latest/\n",
    "#설치되었는지 확인 : pip install konlpy\n",
    "from konlpy.tag import Hannanum, Kkma, Komoran, Okt\n",
    "from sklearn.feature_extraction.text import CountVectorizer\n",
    "from sklearn.decomposition import LatentDirichletAllocation as LDA"
   ]
  },
  {
   "cell_type": "code",
   "execution_count": 2,
   "id": "08c06add",
   "metadata": {},
   "outputs": [],
   "source": [
    "#한글 폰트 적용\n",
    "from matplotlib import font_manager as fm\n",
    "\n",
    "%matplotlib inline\n",
    "\n",
    "f_path = 'C:/windows/Fonts/malgun.ttf'\n",
    "fm.FontProperties(fname=f_path).get_name()\n",
    "mpl.rc('font', family='Malgun Gothic')"
   ]
  },
  {
   "cell_type": "markdown",
   "id": "845618b5",
   "metadata": {},
   "source": [
    "## Preprocessing"
   ]
  },
  {
   "cell_type": "code",
   "execution_count": 3,
   "id": "8a70e546",
   "metadata": {},
   "outputs": [
    {
     "data": {
      "text/html": [
       "<div>\n",
       "<style scoped>\n",
       "    .dataframe tbody tr th:only-of-type {\n",
       "        vertical-align: middle;\n",
       "    }\n",
       "\n",
       "    .dataframe tbody tr th {\n",
       "        vertical-align: top;\n",
       "    }\n",
       "\n",
       "    .dataframe thead th {\n",
       "        text-align: right;\n",
       "    }\n",
       "</style>\n",
       "<table border=\"1\" class=\"dataframe\">\n",
       "  <thead>\n",
       "    <tr style=\"text-align: right;\">\n",
       "      <th></th>\n",
       "      <th>date</th>\n",
       "      <th>sentence</th>\n",
       "      <th>label</th>\n",
       "    </tr>\n",
       "  </thead>\n",
       "  <tbody>\n",
       "    <tr>\n",
       "      <th>0</th>\n",
       "      <td>2022-05-29 23:26:00</td>\n",
       "      <td>몸 조심해</td>\n",
       "      <td>clean</td>\n",
       "    </tr>\n",
       "    <tr>\n",
       "      <th>1</th>\n",
       "      <td>2022-05-29 23:27:00</td>\n",
       "      <td>다치지마…</td>\n",
       "      <td>clean</td>\n",
       "    </tr>\n",
       "    <tr>\n",
       "      <th>2</th>\n",
       "      <td>2022-05-29 23:27:00</td>\n",
       "      <td>ㅂㅂ 화이팅</td>\n",
       "      <td>clean</td>\n",
       "    </tr>\n",
       "    <tr>\n",
       "      <th>3</th>\n",
       "      <td>2022-05-29 23:27:00</td>\n",
       "      <td>좋은 말씀 감사합니다 다들 응원해주셔서 고마워요 ㅎㅎ 공군 838기 파이팅</td>\n",
       "      <td>clean</td>\n",
       "    </tr>\n",
       "    <tr>\n",
       "      <th>4</th>\n",
       "      <td>2022-05-29 23:33:00</td>\n",
       "      <td>힝 ㅠㅠ 뭐라쓰셨어ㅋㅋㅋㅋ요 ?</td>\n",
       "      <td>clean</td>\n",
       "    </tr>\n",
       "    <tr>\n",
       "      <th>...</th>\n",
       "      <td>...</td>\n",
       "      <td>...</td>\n",
       "      <td>...</td>\n",
       "    </tr>\n",
       "    <tr>\n",
       "      <th>320123</th>\n",
       "      <td>2021-02-16 17:04:00</td>\n",
       "      <td>코로난데 밥약도 걸어?</td>\n",
       "      <td>clean</td>\n",
       "    </tr>\n",
       "    <tr>\n",
       "      <th>320124</th>\n",
       "      <td>2021-02-16 22:41:00</td>\n",
       "      <td>말했자어 그렇게 심각하지 않을때 세네번 해봄</td>\n",
       "      <td>clean</td>\n",
       "    </tr>\n",
       "    <tr>\n",
       "      <th>320125</th>\n",
       "      <td>2021-02-16 23:39:00</td>\n",
       "      <td>???과대 80만워 줘??나 과대인데 왜 안줌...</td>\n",
       "      <td>clean</td>\n",
       "    </tr>\n",
       "    <tr>\n",
       "      <th>320126</th>\n",
       "      <td>2021-02-17 02:33:00</td>\n",
       "      <td>학기 말에 받아!!</td>\n",
       "      <td>clean</td>\n",
       "    </tr>\n",
       "    <tr>\n",
       "      <th>320127</th>\n",
       "      <td>2021-12-29 14:51:00</td>\n",
       "      <td>과대 돈 줘?? 왜??</td>\n",
       "      <td>clean</td>\n",
       "    </tr>\n",
       "  </tbody>\n",
       "</table>\n",
       "<p>320128 rows × 3 columns</p>\n",
       "</div>"
      ],
      "text/plain": [
       "                       date                                   sentence  label\n",
       "0       2022-05-29 23:26:00                                      몸 조심해  clean\n",
       "1       2022-05-29 23:27:00                                      다치지마…  clean\n",
       "2       2022-05-29 23:27:00                                     ㅂㅂ 화이팅  clean\n",
       "3       2022-05-29 23:27:00  좋은 말씀 감사합니다 다들 응원해주셔서 고마워요 ㅎㅎ 공군 838기 파이팅  clean\n",
       "4       2022-05-29 23:33:00                          힝 ㅠㅠ 뭐라쓰셨어ㅋㅋㅋㅋ요 ?  clean\n",
       "...                     ...                                        ...    ...\n",
       "320123  2021-02-16 17:04:00                               코로난데 밥약도 걸어?  clean\n",
       "320124  2021-02-16 22:41:00                   말했자어 그렇게 심각하지 않을때 세네번 해봄  clean\n",
       "320125  2021-02-16 23:39:00               ???과대 80만워 줘??나 과대인데 왜 안줌...  clean\n",
       "320126  2021-02-17 02:33:00                                 학기 말에 받아!!  clean\n",
       "320127  2021-12-29 14:51:00                               과대 돈 줘?? 왜??  clean\n",
       "\n",
       "[320128 rows x 3 columns]"
      ]
     },
     "execution_count": 3,
     "metadata": {},
     "output_type": "execute_result"
    }
   ],
   "source": [
    "#Unnamed: 0 열 drop\n",
    "#한글 전용 인코딩 cp949 방식으로 읽어오기\n",
    "df_comment = pd.read_csv('../datasets/df_comment.csv', encoding='cp949').drop('Unnamed: 0' , axis=1)\n",
    "\n",
    "df_comment"
   ]
  },
  {
   "cell_type": "code",
   "execution_count": null,
   "id": "d61516db",
   "metadata": {},
   "outputs": [],
   "source": []
  }
 ],
 "metadata": {
  "kernelspec": {
   "display_name": "Python 3 (ipykernel)",
   "language": "python",
   "name": "python3"
  },
  "language_info": {
   "codemirror_mode": {
    "name": "ipython",
    "version": 3
   },
   "file_extension": ".py",
   "mimetype": "text/x-python",
   "name": "python",
   "nbconvert_exporter": "python",
   "pygments_lexer": "ipython3",
   "version": "3.9.7"
  }
 },
 "nbformat": 4,
 "nbformat_minor": 5
}
