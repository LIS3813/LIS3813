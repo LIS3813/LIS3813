{
 "cells": [
  {
   "cell_type": "markdown",
   "metadata": {},
   "source": [
    "# 1. Load DataSet"
   ]
  },
  {
   "cell_type": "code",
   "execution_count": 1,
   "metadata": {},
   "outputs": [
    {
     "name": "stderr",
     "output_type": "stream",
     "text": [
      "/usr/lib/python3/dist-packages/requests/__init__.py:89: RequestsDependencyWarning: urllib3 (1.26.9) or chardet (3.0.4) doesn't match a supported version!\n",
      "  warnings.warn(\"urllib3 ({}) or chardet ({}) doesn't match a supported \"\n",
      "/home/bell/.local/lib/python3.8/site-packages/tqdm/auto.py:22: TqdmWarning: IProgress not found. Please update jupyter and ipywidgets. See https://ipywidgets.readthedocs.io/en/stable/user_install.html\n",
      "  from .autonotebook import tqdm as notebook_tqdm\n",
      "Using custom data configuration smilegate-ai--kor_unsmile-e0f75c6e3be1af78\n",
      "Reusing dataset parquet (/home/bell/.cache/huggingface/datasets/parquet/smilegate-ai--kor_unsmile-e0f75c6e3be1af78/0.0.0/1638526fd0e8d960534e2155dc54fdff8dce73851f21f031d2fb9c2cf757c121)\n",
      "100%|██████████| 2/2 [00:00<00:00, 126.70it/s]\n"
     ]
    },
    {
     "data": {
      "text/plain": [
       "{'문장': '일안하는 시간은 쉬고싶어서 그런게 아닐까',\n",
       " '여성/가족': 0,\n",
       " '남성': 0,\n",
       " '성소수자': 0,\n",
       " '인종/국적': 0,\n",
       " '연령': 0,\n",
       " '지역': 0,\n",
       " '종교': 0,\n",
       " '기타 혐오': 0,\n",
       " '악플/욕설': 0,\n",
       " 'clean': 1,\n",
       " '개인지칭': 0,\n",
       " 'labels': [0, 0, 0, 0, 0, 0, 0, 0, 0, 1]}"
      ]
     },
     "execution_count": 1,
     "metadata": {},
     "output_type": "execute_result"
    }
   ],
   "source": [
    "from datasets import load_dataset\n",
    "unsmile_labels = [\"여성/가족\",\"남성\",\"성소수자\",\"인종/국적\",\"연령\",\"지역\",\"종교\",\"기타 혐오\",\"악플/욕설\",\"clean\"]\n",
    "dataset = load_dataset('smilegate-ai/kor_unsmile')\n",
    "dataset[\"train\"][0]"
   ]
  },
  {
   "cell_type": "markdown",
   "metadata": {},
   "source": [
    "# 2. Load Model"
   ]
  },
  {
   "cell_type": "code",
   "execution_count": 2,
   "metadata": {},
   "outputs": [],
   "source": [
    "from transformers import BertForSequenceClassification, TrainingArguments, Trainer, AutoTokenizer\n",
    "import torch\n",
    "import numpy as np"
   ]
  },
  {
   "cell_type": "code",
   "execution_count": 3,
   "metadata": {},
   "outputs": [],
   "source": [
    "model_name = 'beomi/kcbert-base'\n",
    "tokenizer = AutoTokenizer.from_pretrained(model_name)"
   ]
  },
  {
   "cell_type": "code",
   "execution_count": 4,
   "metadata": {},
   "outputs": [],
   "source": [
    "def preprocess_function(examples):\n",
    "    tokenized_examples = tokenizer(str(examples[\"문장\"]))\n",
    "    tokenized_examples['labels'] = torch.tensor(examples[\"labels\"], dtype=torch.float)\n",
    "    # multi label classification 학습을 위해선 label이 float 형태로 변형되어야 합니다.\n",
    "    # huggingface datasets 최신 버전에는 'map' 함수에 버그가 있어서 변형이 올바르게 되지 않습니다.\n",
    "    \n",
    "    return tokenized_examples"
   ]
  },
  {
   "cell_type": "code",
   "execution_count": 5,
   "metadata": {},
   "outputs": [
    {
     "name": "stderr",
     "output_type": "stream",
     "text": [
      "Loading cached processed dataset at /home/bell/.cache/huggingface/datasets/parquet/smilegate-ai--kor_unsmile-e0f75c6e3be1af78/0.0.0/1638526fd0e8d960534e2155dc54fdff8dce73851f21f031d2fb9c2cf757c121/cache-b23fc448b6317d8d.arrow\n",
      "Loading cached processed dataset at /home/bell/.cache/huggingface/datasets/parquet/smilegate-ai--kor_unsmile-e0f75c6e3be1af78/0.0.0/1638526fd0e8d960534e2155dc54fdff8dce73851f21f031d2fb9c2cf757c121/cache-e35146b5b2321e0a.arrow\n"
     ]
    }
   ],
   "source": [
    "tokenized_dataset = dataset.map(preprocess_function)\n",
    "tokenized_dataset.set_format(type='torch', columns=['input_ids', 'labels', 'attention_mask', 'token_type_ids'])"
   ]
  },
  {
   "cell_type": "code",
   "execution_count": 6,
   "metadata": {},
   "outputs": [
    {
     "data": {
      "text/plain": [
       "{'labels': tensor([0., 0., 0., 0., 0., 0., 0., 0., 0., 1.]),\n",
       " 'input_ids': tensor([    2,  2458, 15751, 24930, 24351, 29278, 17038, 11631,     3]),\n",
       " 'token_type_ids': tensor([0, 0, 0, 0, 0, 0, 0, 0, 0]),\n",
       " 'attention_mask': tensor([1, 1, 1, 1, 1, 1, 1, 1, 1])}"
      ]
     },
     "execution_count": 6,
     "metadata": {},
     "output_type": "execute_result"
    }
   ],
   "source": [
    "tokenized_dataset['train'][0]"
   ]
  },
  {
   "cell_type": "code",
   "execution_count": 7,
   "metadata": {},
   "outputs": [],
   "source": [
    "from transformers import DataCollatorWithPadding\n",
    "data_collator = DataCollatorWithPadding(tokenizer=tokenizer)"
   ]
  },
  {
   "cell_type": "code",
   "execution_count": 8,
   "metadata": {},
   "outputs": [
    {
     "name": "stderr",
     "output_type": "stream",
     "text": [
      "Some weights of the model checkpoint at beomi/kcbert-base were not used when initializing BertForSequenceClassification: ['cls.predictions.bias', 'cls.predictions.transform.dense.weight', 'cls.predictions.transform.LayerNorm.bias', 'cls.predictions.transform.dense.bias', 'cls.seq_relationship.weight', 'cls.predictions.decoder.weight', 'cls.seq_relationship.bias', 'cls.predictions.transform.LayerNorm.weight', 'cls.predictions.decoder.bias']\n",
      "- This IS expected if you are initializing BertForSequenceClassification from the checkpoint of a model trained on another task or with another architecture (e.g. initializing a BertForSequenceClassification model from a BertForPreTraining model).\n",
      "- This IS NOT expected if you are initializing BertForSequenceClassification from the checkpoint of a model that you expect to be exactly identical (initializing a BertForSequenceClassification model from a BertForSequenceClassification model).\n",
      "Some weights of BertForSequenceClassification were not initialized from the model checkpoint at beomi/kcbert-base and are newly initialized: ['classifier.bias', 'classifier.weight']\n",
      "You should probably TRAIN this model on a down-stream task to be able to use it for predictions and inference.\n"
     ]
    }
   ],
   "source": [
    "num_labels=len(unsmile_labels) # Label 갯수\n",
    "\n",
    "model = BertForSequenceClassification.from_pretrained(\n",
    "    model_name, \n",
    "    num_labels=num_labels, \n",
    "    problem_type=\"multi_label_classification\"\n",
    ")\n",
    "model.config.id2label = {i: label for i, label in zip(range(num_labels), unsmile_labels)}\n",
    "model.config.label2id = {label: i for i, label in zip(range(num_labels), unsmile_labels)}"
   ]
  },
  {
   "cell_type": "code",
   "execution_count": 9,
   "metadata": {},
   "outputs": [
    {
     "data": {
      "text/plain": [
       "{'여성/가족': 0,\n",
       " '남성': 1,\n",
       " '성소수자': 2,\n",
       " '인종/국적': 3,\n",
       " '연령': 4,\n",
       " '지역': 5,\n",
       " '종교': 6,\n",
       " '기타 혐오': 7,\n",
       " '악플/욕설': 8,\n",
       " 'clean': 9}"
      ]
     },
     "execution_count": 9,
     "metadata": {},
     "output_type": "execute_result"
    }
   ],
   "source": [
    "model.config.label2id"
   ]
  },
  {
   "cell_type": "markdown",
   "metadata": {},
   "source": [
    "# 3. Model training"
   ]
  },
  {
   "cell_type": "code",
   "execution_count": 10,
   "metadata": {},
   "outputs": [],
   "source": [
    "from sklearn.metrics import label_ranking_average_precision_score"
   ]
  },
  {
   "cell_type": "code",
   "execution_count": 11,
   "metadata": {},
   "outputs": [],
   "source": [
    "def compute_metrics(x):\n",
    "    return {\n",
    "        'lrap': label_ranking_average_precision_score(x.label_ids, x.predictions),\n",
    "    }"
   ]
  },
  {
   "cell_type": "code",
   "execution_count": 12,
   "metadata": {},
   "outputs": [],
   "source": [
    "batch_size = 8 # 64 batch는 colab pro에서 테스트되었습니다."
   ]
  },
  {
   "cell_type": "code",
   "execution_count": 13,
   "metadata": {},
   "outputs": [],
   "source": [
    "args = TrainingArguments(\n",
    "    output_dir=\"model_output\",\n",
    "    evaluation_strategy=\"epoch\",\n",
    "    learning_rate=2e-5,\n",
    "    per_device_train_batch_size=batch_size,\n",
    "    per_device_eval_batch_size=batch_size,\n",
    "    num_train_epochs=5,\n",
    "    save_strategy='epoch',\n",
    "    load_best_model_at_end=True,\n",
    "    metric_for_best_model='lrap',\n",
    "    greater_is_better=True,\n",
    ")\n",
    "\n",
    "trainer = Trainer(\n",
    "    model=model, \n",
    "    args=args, \n",
    "    train_dataset=tokenized_dataset[\"train\"], \n",
    "    eval_dataset=tokenized_dataset[\"valid\"], \n",
    "    compute_metrics=compute_metrics,\n",
    "    tokenizer=tokenizer,\n",
    "    data_collator=data_collator\n",
    ")"
   ]
  },
  {
   "cell_type": "code",
   "execution_count": 14,
   "metadata": {},
   "outputs": [
    {
     "name": "stderr",
     "output_type": "stream",
     "text": [
      "The following columns in the training set don't have a corresponding argument in `BertForSequenceClassification.forward` and have been ignored: 개인지칭, 지역, 종교, 연령, clean, 인종/국적, 성소수자, 여성/가족, 악플/욕설, 문장, 남성, 기타 혐오. If 개인지칭, 지역, 종교, 연령, clean, 인종/국적, 성소수자, 여성/가족, 악플/욕설, 문장, 남성, 기타 혐오 are not expected by `BertForSequenceClassification.forward`,  you can safely ignore this message.\n",
      "/home/bell/.local/lib/python3.8/site-packages/transformers/optimization.py:306: FutureWarning: This implementation of AdamW is deprecated and will be removed in a future version. Use the PyTorch implementation torch.optim.AdamW instead, or set `no_deprecation_warning=True` to disable this warning\n",
      "  warnings.warn(\n",
      "***** Running training *****\n",
      "  Num examples = 15005\n",
      "  Num Epochs = 5\n",
      "  Instantaneous batch size per device = 8\n",
      "  Total train batch size (w. parallel, distributed & accumulation) = 8\n",
      "  Gradient Accumulation steps = 1\n",
      "  Total optimization steps = 9380\n"
     ]
    },
    {
     "data": {
      "text/html": [
       "\n",
       "    <div>\n",
       "      \n",
       "      <progress value='9380' max='9380' style='width:300px; height:20px; vertical-align: middle;'></progress>\n",
       "      [9380/9380 2:44:15, Epoch 5/5]\n",
       "    </div>\n",
       "    <table border=\"1\" class=\"dataframe\">\n",
       "  <thead>\n",
       " <tr style=\"text-align: left;\">\n",
       "      <th>Epoch</th>\n",
       "      <th>Training Loss</th>\n",
       "      <th>Validation Loss</th>\n",
       "      <th>Lrap</th>\n",
       "    </tr>\n",
       "  </thead>\n",
       "  <tbody>\n",
       "    <tr>\n",
       "      <td>1</td>\n",
       "      <td>0.142300</td>\n",
       "      <td>0.131905</td>\n",
       "      <td>0.864497</td>\n",
       "    </tr>\n",
       "    <tr>\n",
       "      <td>2</td>\n",
       "      <td>0.092300</td>\n",
       "      <td>0.126896</td>\n",
       "      <td>0.879188</td>\n",
       "    </tr>\n",
       "    <tr>\n",
       "      <td>3</td>\n",
       "      <td>0.052100</td>\n",
       "      <td>0.143911</td>\n",
       "      <td>0.877595</td>\n",
       "    </tr>\n",
       "    <tr>\n",
       "      <td>4</td>\n",
       "      <td>0.030500</td>\n",
       "      <td>0.160567</td>\n",
       "      <td>0.877642</td>\n",
       "    </tr>\n",
       "    <tr>\n",
       "      <td>5</td>\n",
       "      <td>0.017500</td>\n",
       "      <td>0.171280</td>\n",
       "      <td>0.878049</td>\n",
       "    </tr>\n",
       "  </tbody>\n",
       "</table><p>"
      ],
      "text/plain": [
       "<IPython.core.display.HTML object>"
      ]
     },
     "metadata": {},
     "output_type": "display_data"
    },
    {
     "name": "stderr",
     "output_type": "stream",
     "text": [
      "The following columns in the evaluation set don't have a corresponding argument in `BertForSequenceClassification.forward` and have been ignored: 개인지칭, 지역, 종교, 연령, clean, 인종/국적, 성소수자, 여성/가족, 악플/욕설, 문장, 남성, 기타 혐오. If 개인지칭, 지역, 종교, 연령, clean, 인종/국적, 성소수자, 여성/가족, 악플/욕설, 문장, 남성, 기타 혐오 are not expected by `BertForSequenceClassification.forward`,  you can safely ignore this message.\n",
      "***** Running Evaluation *****\n",
      "  Num examples = 3737\n",
      "  Batch size = 8\n",
      "Saving model checkpoint to model_output/checkpoint-1876\n",
      "Configuration saved in model_output/checkpoint-1876/config.json\n",
      "Model weights saved in model_output/checkpoint-1876/pytorch_model.bin\n",
      "tokenizer config file saved in model_output/checkpoint-1876/tokenizer_config.json\n",
      "Special tokens file saved in model_output/checkpoint-1876/special_tokens_map.json\n",
      "The following columns in the evaluation set don't have a corresponding argument in `BertForSequenceClassification.forward` and have been ignored: 개인지칭, 지역, 종교, 연령, clean, 인종/국적, 성소수자, 여성/가족, 악플/욕설, 문장, 남성, 기타 혐오. If 개인지칭, 지역, 종교, 연령, clean, 인종/국적, 성소수자, 여성/가족, 악플/욕설, 문장, 남성, 기타 혐오 are not expected by `BertForSequenceClassification.forward`,  you can safely ignore this message.\n",
      "***** Running Evaluation *****\n",
      "  Num examples = 3737\n",
      "  Batch size = 8\n",
      "Saving model checkpoint to model_output/checkpoint-3752\n",
      "Configuration saved in model_output/checkpoint-3752/config.json\n",
      "Model weights saved in model_output/checkpoint-3752/pytorch_model.bin\n",
      "tokenizer config file saved in model_output/checkpoint-3752/tokenizer_config.json\n",
      "Special tokens file saved in model_output/checkpoint-3752/special_tokens_map.json\n",
      "The following columns in the evaluation set don't have a corresponding argument in `BertForSequenceClassification.forward` and have been ignored: 개인지칭, 지역, 종교, 연령, clean, 인종/국적, 성소수자, 여성/가족, 악플/욕설, 문장, 남성, 기타 혐오. If 개인지칭, 지역, 종교, 연령, clean, 인종/국적, 성소수자, 여성/가족, 악플/욕설, 문장, 남성, 기타 혐오 are not expected by `BertForSequenceClassification.forward`,  you can safely ignore this message.\n",
      "***** Running Evaluation *****\n",
      "  Num examples = 3737\n",
      "  Batch size = 8\n",
      "Saving model checkpoint to model_output/checkpoint-5628\n",
      "Configuration saved in model_output/checkpoint-5628/config.json\n",
      "Model weights saved in model_output/checkpoint-5628/pytorch_model.bin\n",
      "tokenizer config file saved in model_output/checkpoint-5628/tokenizer_config.json\n",
      "Special tokens file saved in model_output/checkpoint-5628/special_tokens_map.json\n",
      "The following columns in the evaluation set don't have a corresponding argument in `BertForSequenceClassification.forward` and have been ignored: 개인지칭, 지역, 종교, 연령, clean, 인종/국적, 성소수자, 여성/가족, 악플/욕설, 문장, 남성, 기타 혐오. If 개인지칭, 지역, 종교, 연령, clean, 인종/국적, 성소수자, 여성/가족, 악플/욕설, 문장, 남성, 기타 혐오 are not expected by `BertForSequenceClassification.forward`,  you can safely ignore this message.\n",
      "***** Running Evaluation *****\n",
      "  Num examples = 3737\n",
      "  Batch size = 8\n",
      "Saving model checkpoint to model_output/checkpoint-7504\n",
      "Configuration saved in model_output/checkpoint-7504/config.json\n",
      "Model weights saved in model_output/checkpoint-7504/pytorch_model.bin\n",
      "tokenizer config file saved in model_output/checkpoint-7504/tokenizer_config.json\n",
      "Special tokens file saved in model_output/checkpoint-7504/special_tokens_map.json\n",
      "The following columns in the evaluation set don't have a corresponding argument in `BertForSequenceClassification.forward` and have been ignored: 개인지칭, 지역, 종교, 연령, clean, 인종/국적, 성소수자, 여성/가족, 악플/욕설, 문장, 남성, 기타 혐오. If 개인지칭, 지역, 종교, 연령, clean, 인종/국적, 성소수자, 여성/가족, 악플/욕설, 문장, 남성, 기타 혐오 are not expected by `BertForSequenceClassification.forward`,  you can safely ignore this message.\n",
      "***** Running Evaluation *****\n",
      "  Num examples = 3737\n",
      "  Batch size = 8\n",
      "Saving model checkpoint to model_output/checkpoint-9380\n",
      "Configuration saved in model_output/checkpoint-9380/config.json\n",
      "Model weights saved in model_output/checkpoint-9380/pytorch_model.bin\n",
      "tokenizer config file saved in model_output/checkpoint-9380/tokenizer_config.json\n",
      "Special tokens file saved in model_output/checkpoint-9380/special_tokens_map.json\n",
      "\n",
      "\n",
      "Training completed. Do not forget to share your model on huggingface.co/models =)\n",
      "\n",
      "\n",
      "Loading best model from model_output/checkpoint-3752 (score: 0.8791880635940057).\n"
     ]
    },
    {
     "data": {
      "text/plain": [
       "TrainOutput(global_step=9380, training_loss=0.07335278357524098, metrics={'train_runtime': 9856.9573, 'train_samples_per_second': 7.611, 'train_steps_per_second': 0.952, 'total_flos': 1631470471321992.0, 'train_loss': 0.07335278357524098, 'epoch': 5.0})"
      ]
     },
     "execution_count": 14,
     "metadata": {},
     "output_type": "execute_result"
    }
   ],
   "source": [
    "trainer.train()"
   ]
  },
  {
   "cell_type": "code",
   "execution_count": 15,
   "metadata": {},
   "outputs": [
    {
     "name": "stderr",
     "output_type": "stream",
     "text": [
      "Saving model checkpoint to model_output\n",
      "Configuration saved in model_output/config.json\n",
      "Model weights saved in model_output/pytorch_model.bin\n",
      "tokenizer config file saved in model_output/tokenizer_config.json\n",
      "Special tokens file saved in model_output/special_tokens_map.json\n"
     ]
    }
   ],
   "source": [
    "trainer.save_model()"
   ]
  },
  {
   "cell_type": "markdown",
   "metadata": {},
   "source": [
    "# 4. Model test"
   ]
  },
  {
   "cell_type": "code",
   "execution_count": 17,
   "metadata": {},
   "outputs": [],
   "source": [
    "from transformers import TextClassificationPipeline\n",
    "\n",
    "pipe = TextClassificationPipeline(\n",
    "    model = model,\n",
    "    tokenizer = tokenizer,\n",
    "    device=-1, # 0>= GPU | 0 < CPU\n",
    "    return_all_scores=True,\n",
    "    function_to_apply='sigmoid'\n",
    "    )"
   ]
  },
  {
   "cell_type": "code",
   "execution_count": 18,
   "metadata": {},
   "outputs": [],
   "source": [
    "# 기학습된 모델을 사용하실 경우, 아래 코드로 실행해주세요\n",
    "\n",
    "# from transformers import TextClassificationPipeline, BertForSequenceClassification, AutoTokenizer\n",
    "\n",
    "# model_name = 'smilegate-ai/kor_unsmile'\n",
    "\n",
    "# model = BertForSequenceClassification.from_pretrained(model_name)\n",
    "# tokenizer = AutoTokenizer.from_pretrained(model_name)\n",
    "\n",
    "# pipe = TextClassificationPipeline(\n",
    "#     model=model,\n",
    "#     tokenizer=tokenizer,\n",
    "#     device=0,     # cpu: -1, gpu: gpu number\n",
    "#     return_all_scores=True,\n",
    "#     function_to_apply='sigmoid'\n",
    "#     )"
   ]
  },
  {
   "cell_type": "code",
   "execution_count": 19,
   "metadata": {},
   "outputs": [
    {
     "name": "stdout",
     "output_type": "stream",
     "text": [
      "{'label': '여성/가족', 'score': 0.8613083958625793}\n",
      "{'label': '남성', 'score': 0.014456871896982193}\n",
      "{'label': '성소수자', 'score': 0.0016029539983719587}\n",
      "{'label': '인종/국적', 'score': 0.012013331986963749}\n",
      "{'label': '연령', 'score': 0.003350969636812806}\n",
      "{'label': '지역', 'score': 0.003601288655772805}\n",
      "{'label': '종교', 'score': 0.002437349408864975}\n",
      "{'label': '기타 혐오', 'score': 0.004123682156205177}\n",
      "{'label': '악플/욕설', 'score': 0.034082479774951935}\n",
      "{'label': 'clean', 'score': 0.10020577907562256}\n"
     ]
    }
   ],
   "source": [
    "for result in pipe(\"이래서 여자는 게임을 하면 안된다\")[0]:\n",
    "    print(result)"
   ]
  },
  {
   "cell_type": "markdown",
   "metadata": {},
   "source": [
    "# 5. model evaluation"
   ]
  },
  {
   "cell_type": "code",
   "execution_count": 20,
   "metadata": {},
   "outputs": [],
   "source": [
    "def get_predicated_label(output_labels, min_score):\n",
    "    labels = []\n",
    "    for label in output_labels:\n",
    "        if label['score'] > min_score:\n",
    "            labels.append(1)\n",
    "        else:\n",
    "            labels.append(0)\n",
    "    return labels"
   ]
  },
  {
   "cell_type": "code",
   "execution_count": 21,
   "metadata": {},
   "outputs": [
    {
     "name": "stderr",
     "output_type": "stream",
     "text": [
      "Disabling tokenizer parallelism, we're using DataLoader multithreading already\n",
      "100%|██████████| 3737/3737 [01:46<00:00, 35.01it/s]\n"
     ]
    }
   ],
   "source": [
    "import tqdm\n",
    "from transformers.pipelines.base import KeyDataset\n",
    "\n",
    "predicated_labels = []\n",
    "\n",
    "for out in tqdm.tqdm(pipe(KeyDataset(dataset['valid'], '문장'))):\n",
    "    predicated_labels.append(get_predicated_label(out, 0.5))"
   ]
  },
  {
   "cell_type": "code",
   "execution_count": 22,
   "metadata": {},
   "outputs": [
    {
     "name": "stdout",
     "output_type": "stream",
     "text": [
      "              precision    recall  f1-score   support\n",
      "\n",
      "           0       0.76      0.81      0.79       394\n",
      "           1       0.83      0.86      0.85       334\n",
      "           2       0.87      0.79      0.83       280\n",
      "           3       0.83      0.85      0.84       426\n",
      "           4       0.89      0.86      0.88       146\n",
      "           5       0.86      0.92      0.88       260\n",
      "           6       0.87      0.87      0.87       290\n",
      "           7       0.65      0.53      0.58       134\n",
      "           8       0.73      0.63      0.67       786\n",
      "           9       0.78      0.73      0.75       935\n",
      "\n",
      "   micro avg       0.80      0.77      0.78      3985\n",
      "   macro avg       0.81      0.79      0.79      3985\n",
      "weighted avg       0.79      0.77      0.78      3985\n",
      " samples avg       0.78      0.77      0.77      3985\n",
      "\n"
     ]
    },
    {
     "name": "stderr",
     "output_type": "stream",
     "text": [
      "/home/bell/.local/lib/python3.8/site-packages/sklearn/metrics/_classification.py:1327: UndefinedMetricWarning: Precision and F-score are ill-defined and being set to 0.0 in samples with no predicted labels. Use `zero_division` parameter to control this behavior.\n",
      "  _warn_prf(average, modifier, msg_start, len(result))\n"
     ]
    }
   ],
   "source": [
    "from sklearn.metrics import classification_report\n",
    "\n",
    "print(classification_report(dataset['valid']['labels'], predicated_labels))"
   ]
  }
 ],
 "metadata": {
  "interpreter": {
   "hash": "31f2aee4e71d21fbe5cf8b01ff0e069b9275f58929596ceb00d14d90e3e16cd6"
  },
  "kernelspec": {
   "display_name": "Python 3.8.10 64-bit",
   "language": "python",
   "name": "python3"
  },
  "language_info": {
   "codemirror_mode": {
    "name": "ipython",
    "version": 3
   },
   "file_extension": ".py",
   "mimetype": "text/x-python",
   "name": "python",
   "nbconvert_exporter": "python",
   "pygments_lexer": "ipython3",
   "version": "3.8.10"
  },
  "orig_nbformat": 4
 },
 "nbformat": 4,
 "nbformat_minor": 2
}
