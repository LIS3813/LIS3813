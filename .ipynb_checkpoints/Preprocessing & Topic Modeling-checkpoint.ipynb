{
 "cells": [
  {
   "cell_type": "markdown",
   "id": "09f85bb8",
   "metadata": {},
   "source": [
    "## Import libraries"
   ]
  },
  {
   "cell_type": "code",
   "execution_count": 1,
   "id": "d26aba08",
   "metadata": {
    "scrolled": true
   },
   "outputs": [
    {
     "ename": "ImportError",
     "evalue": "cannot import name 'KKma' from 'konlpy.tag' (C:\\ProgramData\\Anaconda3\\lib\\site-packages\\konlpy\\tag\\__init__.py)",
     "output_type": "error",
     "traceback": [
      "\u001b[1;31m---------------------------------------------------------------------------\u001b[0m",
      "\u001b[1;31mImportError\u001b[0m                               Traceback (most recent call last)",
      "\u001b[1;32m~\\AppData\\Local\\Temp/ipykernel_25840/3737910948.py\u001b[0m in \u001b[0;36m<module>\u001b[1;34m\u001b[0m\n\u001b[0;32m      9\u001b[0m \u001b[0mget_ipython\u001b[0m\u001b[1;33m(\u001b[0m\u001b[1;33m)\u001b[0m\u001b[1;33m.\u001b[0m\u001b[0mrun_line_magic\u001b[0m\u001b[1;33m(\u001b[0m\u001b[1;34m'matplotlib'\u001b[0m\u001b[1;33m,\u001b[0m \u001b[1;34m'inline'\u001b[0m\u001b[1;33m)\u001b[0m\u001b[1;33m\u001b[0m\u001b[1;33m\u001b[0m\u001b[0m\n\u001b[0;32m     10\u001b[0m \u001b[1;33m\u001b[0m\u001b[0m\n\u001b[1;32m---> 11\u001b[1;33m \u001b[1;32mfrom\u001b[0m \u001b[0mkonlpy\u001b[0m\u001b[1;33m.\u001b[0m\u001b[0mtag\u001b[0m \u001b[1;32mimport\u001b[0m \u001b[0mKKma\u001b[0m \u001b[1;31m#설치되었는지 확인 : pip install konlpy\u001b[0m\u001b[1;33m\u001b[0m\u001b[1;33m\u001b[0m\u001b[0m\n\u001b[0m",
      "\u001b[1;31mImportError\u001b[0m: cannot import name 'KKma' from 'konlpy.tag' (C:\\ProgramData\\Anaconda3\\lib\\site-packages\\konlpy\\tag\\__init__.py)"
     ]
    }
   ],
   "source": [
    "import numpy as np\n",
    "import pandas as pd\n",
    "import seaborn as sns\n",
    "from sklearn.preprocessing import StandardScaler, MinMaxScaler\n",
    "from tqdm.notebook import tqdm\n",
    "import matplotlib as mpl\n",
    "import matplotlib.pyplot as plt\n",
    "np.random.seed(42)\n",
    "%matplotlib inline\n",
    "\n",
    "#KoNLPy 공식 문서 : https://konlpy.org/ko/latest/\n",
    "from konlpy.tag import Kkma #설치되었는지 확인 : pip install konlpy"
   ]
  },
  {
   "cell_type": "code",
   "execution_count": null,
   "id": "88f00fd3",
   "metadata": {},
   "outputs": [],
   "source": [
    "#한글 폰트 적용\n",
    "from matplotlib import font_manager as fm\n",
    "\n",
    "%matplotlib inline\n",
    "\n",
    "f_path = 'C:/windows/Fonts/malgun.ttf'\n",
    "fm.FontProperties(fname=f_path).get_name()\n",
    "mpl.rc('font', family='Malgun Gothic')"
   ]
  },
  {
   "cell_type": "markdown",
   "id": "9b1c9fd0",
   "metadata": {},
   "source": [
    "## Preprocessing"
   ]
  },
  {
   "cell_type": "code",
   "execution_count": null,
   "id": "62529d60",
   "metadata": {},
   "outputs": [],
   "source": [
    "#Unnamed: 0 열 drop\n",
    "df_article = pd.read_csv('./datasets/df_article.csv').drop('Unnamed: 0' , axis=1)\n",
    "\n",
    "df_article"
   ]
  },
  {
   "cell_type": "code",
   "execution_count": null,
   "id": "2c8434d5",
   "metadata": {},
   "outputs": [],
   "source": [
    "#복제본 만들기\n",
    "df_article_copy = df_article.copy()"
   ]
  },
  {
   "cell_type": "code",
   "execution_count": null,
   "id": "46a459a9",
   "metadata": {},
   "outputs": [],
   "source": [
    "#datetime으로 data type 변경\n",
    "df_article['date'] = pd.to_datetime(df_article['date'])\n",
    "\n",
    "#연도, 월 column 만들기\n",
    "df_article['year'] = df_article['date'].dt.year\n",
    "df_article['month'] = df_article['date'].dt.month\n",
    "\n",
    "#날짜 column drop\n",
    "df_article.drop('date', axis=1, inplace=True)\n",
    "df_article.columns"
   ]
  },
  {
   "cell_type": "code",
   "execution_count": null,
   "id": "10758eeb",
   "metadata": {},
   "outputs": [],
   "source": [
    "#column 순서 변경\n",
    "df_article = df_article[['year', 'month', 'label', 'sentence']]\n",
    "\n",
    "df_article.head(3)"
   ]
  },
  {
   "cell_type": "code",
   "execution_count": null,
   "id": "7178118a",
   "metadata": {},
   "outputs": [],
   "source": [
    "#중복값 확인\n",
    "df_article[df_article.duplicated(keep=False)]"
   ]
  },
  {
   "cell_type": "code",
   "execution_count": null,
   "id": "fc818fa5",
   "metadata": {},
   "outputs": [],
   "source": [
    "#중복값 제거\n",
    "df_article = df_article.drop_duplicates()"
   ]
  },
  {
   "cell_type": "code",
   "execution_count": null,
   "id": "973b3094",
   "metadata": {},
   "outputs": [],
   "source": [
    "#혐오표현만 가져오기\n",
    "df_hate = df_article[df_article['label'] != 'clean']\n",
    "df_hate.head()"
   ]
  },
  {
   "cell_type": "markdown",
   "id": "d37ac36f",
   "metadata": {},
   "source": [
    "해당 샘플파일에는 2022년 5월 데이터만 존재해서 따로 연도, 월별로 정리하지 않음"
   ]
  },
  {
   "cell_type": "code",
   "execution_count": null,
   "id": "cf6b36d2",
   "metadata": {},
   "outputs": [],
   "source": [
    "#label에서 '기타 혐오' 있는 데이터 확인해보기\n",
    "df_hate[df_hate.label.str.contains('기타 혐오')]"
   ]
  },
  {
   "cell_type": "code",
   "execution_count": null,
   "id": "6499171b",
   "metadata": {},
   "outputs": [],
   "source": [
    "#groupby를 통해 \n",
    "df_hate[['sentence']].groupby(df_hate['label']).count()"
   ]
  },
  {
   "cell_type": "code",
   "execution_count": null,
   "id": "753c3db9",
   "metadata": {},
   "outputs": [],
   "source": [
    "\n",
    "kkma = Kkma()\n",
    "\n",
    "sentence_lst = df_hate['sentence'].values.tolist()\n",
    "word_lst = []\n",
    "\n",
    "for i in range(len(sentence_lst)):\n",
    "    try:\n",
    "        word_lst.append(kkma.nouns(sentence_lst[i]))\n",
    "    except:\n",
    "        continue\n",
    "\n",
    "word_lst"
   ]
  },
  {
   "cell_type": "code",
   "execution_count": null,
   "id": "23697ffa",
   "metadata": {},
   "outputs": [],
   "source": []
  }
 ],
 "metadata": {
  "kernelspec": {
   "display_name": "Python 3 (ipykernel)",
   "language": "python",
   "name": "python3"
  },
  "language_info": {
   "codemirror_mode": {
    "name": "ipython",
    "version": 3
   },
   "file_extension": ".py",
   "mimetype": "text/x-python",
   "name": "python",
   "nbconvert_exporter": "python",
   "pygments_lexer": "ipython3",
   "version": "3.9.7"
  }
 },
 "nbformat": 4,
 "nbformat_minor": 5
}
